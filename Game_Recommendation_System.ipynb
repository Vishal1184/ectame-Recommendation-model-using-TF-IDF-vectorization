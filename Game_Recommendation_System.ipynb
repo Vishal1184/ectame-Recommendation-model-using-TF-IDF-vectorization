{
 "cells": [
  {
   "cell_type": "markdown",
   "metadata": {
    "id": "nQNVEjUlCaPB"
   },
   "source": [
    "# **Game Recommendation System**"
   ]
  },
  {
   "cell_type": "markdown",
   "metadata": {
    "id": "8SkiRrtXCaPB"
   },
   "source": [
    "The dataset contains over 41 million cleaned and preprocessed user recommendations (reviews) from a Steam Store.\n",
    "\n",
    "**games.csv** - a table of games (or add-ons) information on ratings, pricing in US dollars $, release date, etc. A piece of extra non-tabular details on games, such as descriptions and tags, is in a metadata file;\n",
    "\n",
    "**users.csv** - a table of user profiles' public information: the number of purchased products and reviews published;\n",
    "\n",
    "**recommendations.csv** - a table of user reviews: whether the user recommends a product. The table represents a many-many relation between a game entity and a user entity."
   ]
  },
  {
   "cell_type": "markdown",
   "metadata": {
    "id": "ZwYZFe2ICaPC"
   },
   "source": [
    "> # **Libraries**"
   ]
  },
  {
   "cell_type": "code",
   "execution_count": 2,
   "metadata": {
    "_cell_guid": "b1076dfc-b9ad-4769-8c92-a6c4dae69d19",
    "_uuid": "8f2839f25d086af736a60e9eeb907d3b93b6e0e5",
    "id": "SgdbdlytCaPC"
   },
   "outputs": [
    {
     "name": "stdout",
     "output_type": "stream",
     "text": [
      "C:\\Users\\User\\Downloads\\archive (2)\\games.csv\n",
      "C:\\Users\\User\\Downloads\\archive (2)\\games_metadata.json\n",
      "C:\\Users\\User\\Downloads\\archive (2)\\recommendations.csv\n",
      "C:\\Users\\User\\Downloads\\archive (2)\\users.csv\n"
     ]
    }
   ],
   "source": [
    "import numpy as np\n",
    "import pandas as pd \n",
    "import seaborn as sns\n",
    "import matplotlib.pyplot as plt\n",
    "\n",
    "from sklearn.feature_extraction.text import TfidfVectorizer\n",
    "from sklearn.preprocessing import MultiLabelBinarizer\n",
    "from sklearn.metrics.pairwise import cosine_similarity\n",
    "from scipy.sparse import csr_matrix, hstack\n",
    "from sklearn.neighbors import NearestNeighbors\n",
    "\n",
    "import json\n",
    "\n",
    "import warnings\n",
    "warnings.filterwarnings('ignore')\n",
    "import os\n",
    "data_fold = r\"C:\\Users\\User\\Downloads\\archive (2)\"\n",
    "for dirname, _, filenames in os.walk(data_fold):\n",
    "    for filename in filenames:\n",
    "        print(os.path.join(dirname, filename))"
   ]
  },
  {
   "cell_type": "markdown",
   "metadata": {
    "id": "cQjqSWfHCaPC"
   },
   "source": [
    "> # **Data Collection**"
   ]
  },
  {
   "cell_type": "code",
   "execution_count": 4,
   "metadata": {
    "id": "CKow_R8pCaPC"
   },
   "outputs": [],
   "source": [
    "data_fold = r\"C:\\Users\\User\\Downloads\\archive (2)\"\n",
    "\n",
    "game_df = pd.read_csv(data_fold + '/games.csv')\n",
    "user_df = pd.read_csv(data_fold + '/users.csv')\n",
    "recommend_df = pd.read_csv(data_fold + '/recommendations.csv')"
   ]
  },
  {
   "cell_type": "code",
   "execution_count": 5,
   "metadata": {
    "id": "3DnaLhZsCaPD"
   },
   "outputs": [
    {
     "data": {
      "text/html": [
       "<div>\n",
       "<style scoped>\n",
       "    .dataframe tbody tr th:only-of-type {\n",
       "        vertical-align: middle;\n",
       "    }\n",
       "\n",
       "    .dataframe tbody tr th {\n",
       "        vertical-align: top;\n",
       "    }\n",
       "\n",
       "    .dataframe thead th {\n",
       "        text-align: right;\n",
       "    }\n",
       "</style>\n",
       "<table border=\"1\" class=\"dataframe\">\n",
       "  <thead>\n",
       "    <tr style=\"text-align: right;\">\n",
       "      <th></th>\n",
       "      <th>app_id</th>\n",
       "      <th>title</th>\n",
       "      <th>date_release</th>\n",
       "      <th>win</th>\n",
       "      <th>mac</th>\n",
       "      <th>linux</th>\n",
       "      <th>rating</th>\n",
       "      <th>positive_ratio</th>\n",
       "      <th>user_reviews</th>\n",
       "      <th>price_final</th>\n",
       "      <th>price_original</th>\n",
       "      <th>discount</th>\n",
       "      <th>steam_deck</th>\n",
       "    </tr>\n",
       "  </thead>\n",
       "  <tbody>\n",
       "    <tr>\n",
       "      <th>0</th>\n",
       "      <td>13500</td>\n",
       "      <td>Prince of Persia: Warrior Within™</td>\n",
       "      <td>2008-11-21</td>\n",
       "      <td>True</td>\n",
       "      <td>False</td>\n",
       "      <td>False</td>\n",
       "      <td>Very Positive</td>\n",
       "      <td>84</td>\n",
       "      <td>2199</td>\n",
       "      <td>9.99</td>\n",
       "      <td>9.99</td>\n",
       "      <td>0.0</td>\n",
       "      <td>True</td>\n",
       "    </tr>\n",
       "    <tr>\n",
       "      <th>1</th>\n",
       "      <td>22364</td>\n",
       "      <td>BRINK: Agents of Change</td>\n",
       "      <td>2011-08-03</td>\n",
       "      <td>True</td>\n",
       "      <td>False</td>\n",
       "      <td>False</td>\n",
       "      <td>Positive</td>\n",
       "      <td>85</td>\n",
       "      <td>21</td>\n",
       "      <td>2.99</td>\n",
       "      <td>2.99</td>\n",
       "      <td>0.0</td>\n",
       "      <td>True</td>\n",
       "    </tr>\n",
       "    <tr>\n",
       "      <th>2</th>\n",
       "      <td>113020</td>\n",
       "      <td>Monaco: What's Yours Is Mine</td>\n",
       "      <td>2013-04-24</td>\n",
       "      <td>True</td>\n",
       "      <td>True</td>\n",
       "      <td>True</td>\n",
       "      <td>Very Positive</td>\n",
       "      <td>92</td>\n",
       "      <td>3722</td>\n",
       "      <td>14.99</td>\n",
       "      <td>14.99</td>\n",
       "      <td>0.0</td>\n",
       "      <td>True</td>\n",
       "    </tr>\n",
       "    <tr>\n",
       "      <th>3</th>\n",
       "      <td>226560</td>\n",
       "      <td>Escape Dead Island</td>\n",
       "      <td>2014-11-18</td>\n",
       "      <td>True</td>\n",
       "      <td>False</td>\n",
       "      <td>False</td>\n",
       "      <td>Mixed</td>\n",
       "      <td>61</td>\n",
       "      <td>873</td>\n",
       "      <td>14.99</td>\n",
       "      <td>14.99</td>\n",
       "      <td>0.0</td>\n",
       "      <td>True</td>\n",
       "    </tr>\n",
       "    <tr>\n",
       "      <th>4</th>\n",
       "      <td>249050</td>\n",
       "      <td>Dungeon of the ENDLESS™</td>\n",
       "      <td>2014-10-27</td>\n",
       "      <td>True</td>\n",
       "      <td>True</td>\n",
       "      <td>False</td>\n",
       "      <td>Very Positive</td>\n",
       "      <td>88</td>\n",
       "      <td>8784</td>\n",
       "      <td>11.99</td>\n",
       "      <td>11.99</td>\n",
       "      <td>0.0</td>\n",
       "      <td>True</td>\n",
       "    </tr>\n",
       "  </tbody>\n",
       "</table>\n",
       "</div>"
      ],
      "text/plain": [
       "   app_id                              title date_release   win    mac  linux  \\\n",
       "0   13500  Prince of Persia: Warrior Within™   2008-11-21  True  False  False   \n",
       "1   22364            BRINK: Agents of Change   2011-08-03  True  False  False   \n",
       "2  113020       Monaco: What's Yours Is Mine   2013-04-24  True   True   True   \n",
       "3  226560                 Escape Dead Island   2014-11-18  True  False  False   \n",
       "4  249050            Dungeon of the ENDLESS™   2014-10-27  True   True  False   \n",
       "\n",
       "          rating  positive_ratio  user_reviews  price_final  price_original  \\\n",
       "0  Very Positive              84          2199         9.99            9.99   \n",
       "1       Positive              85            21         2.99            2.99   \n",
       "2  Very Positive              92          3722        14.99           14.99   \n",
       "3          Mixed              61           873        14.99           14.99   \n",
       "4  Very Positive              88          8784        11.99           11.99   \n",
       "\n",
       "   discount  steam_deck  \n",
       "0       0.0        True  \n",
       "1       0.0        True  \n",
       "2       0.0        True  \n",
       "3       0.0        True  \n",
       "4       0.0        True  "
      ]
     },
     "execution_count": 5,
     "metadata": {},
     "output_type": "execute_result"
    }
   ],
   "source": [
    "game_df.head()"
   ]
  },
  {
   "cell_type": "code",
   "execution_count": 6,
   "metadata": {
    "id": "1lBh6iUdCaPD"
   },
   "outputs": [
    {
     "data": {
      "text/html": [
       "<div>\n",
       "<style scoped>\n",
       "    .dataframe tbody tr th:only-of-type {\n",
       "        vertical-align: middle;\n",
       "    }\n",
       "\n",
       "    .dataframe tbody tr th {\n",
       "        vertical-align: top;\n",
       "    }\n",
       "\n",
       "    .dataframe thead th {\n",
       "        text-align: right;\n",
       "    }\n",
       "</style>\n",
       "<table border=\"1\" class=\"dataframe\">\n",
       "  <thead>\n",
       "    <tr style=\"text-align: right;\">\n",
       "      <th></th>\n",
       "      <th>user_id</th>\n",
       "      <th>products</th>\n",
       "      <th>reviews</th>\n",
       "    </tr>\n",
       "  </thead>\n",
       "  <tbody>\n",
       "    <tr>\n",
       "      <th>0</th>\n",
       "      <td>7360263</td>\n",
       "      <td>359</td>\n",
       "      <td>0</td>\n",
       "    </tr>\n",
       "    <tr>\n",
       "      <th>1</th>\n",
       "      <td>14020781</td>\n",
       "      <td>156</td>\n",
       "      <td>1</td>\n",
       "    </tr>\n",
       "    <tr>\n",
       "      <th>2</th>\n",
       "      <td>8762579</td>\n",
       "      <td>329</td>\n",
       "      <td>4</td>\n",
       "    </tr>\n",
       "    <tr>\n",
       "      <th>3</th>\n",
       "      <td>4820647</td>\n",
       "      <td>176</td>\n",
       "      <td>4</td>\n",
       "    </tr>\n",
       "    <tr>\n",
       "      <th>4</th>\n",
       "      <td>5167327</td>\n",
       "      <td>98</td>\n",
       "      <td>2</td>\n",
       "    </tr>\n",
       "  </tbody>\n",
       "</table>\n",
       "</div>"
      ],
      "text/plain": [
       "    user_id  products  reviews\n",
       "0   7360263       359        0\n",
       "1  14020781       156        1\n",
       "2   8762579       329        4\n",
       "3   4820647       176        4\n",
       "4   5167327        98        2"
      ]
     },
     "execution_count": 6,
     "metadata": {},
     "output_type": "execute_result"
    }
   ],
   "source": [
    "user_df.head()"
   ]
  },
  {
   "cell_type": "code",
   "execution_count": 7,
   "metadata": {
    "id": "9fUGduRvCaPD"
   },
   "outputs": [
    {
     "data": {
      "text/html": [
       "<div>\n",
       "<style scoped>\n",
       "    .dataframe tbody tr th:only-of-type {\n",
       "        vertical-align: middle;\n",
       "    }\n",
       "\n",
       "    .dataframe tbody tr th {\n",
       "        vertical-align: top;\n",
       "    }\n",
       "\n",
       "    .dataframe thead th {\n",
       "        text-align: right;\n",
       "    }\n",
       "</style>\n",
       "<table border=\"1\" class=\"dataframe\">\n",
       "  <thead>\n",
       "    <tr style=\"text-align: right;\">\n",
       "      <th></th>\n",
       "      <th>app_id</th>\n",
       "      <th>helpful</th>\n",
       "      <th>funny</th>\n",
       "      <th>date</th>\n",
       "      <th>is_recommended</th>\n",
       "      <th>hours</th>\n",
       "      <th>user_id</th>\n",
       "      <th>review_id</th>\n",
       "    </tr>\n",
       "  </thead>\n",
       "  <tbody>\n",
       "    <tr>\n",
       "      <th>0</th>\n",
       "      <td>975370</td>\n",
       "      <td>0</td>\n",
       "      <td>0</td>\n",
       "      <td>2022-12-12</td>\n",
       "      <td>True</td>\n",
       "      <td>36.3</td>\n",
       "      <td>51580</td>\n",
       "      <td>0</td>\n",
       "    </tr>\n",
       "    <tr>\n",
       "      <th>1</th>\n",
       "      <td>304390</td>\n",
       "      <td>4</td>\n",
       "      <td>0</td>\n",
       "      <td>2017-02-17</td>\n",
       "      <td>False</td>\n",
       "      <td>11.5</td>\n",
       "      <td>2586</td>\n",
       "      <td>1</td>\n",
       "    </tr>\n",
       "    <tr>\n",
       "      <th>2</th>\n",
       "      <td>1085660</td>\n",
       "      <td>2</td>\n",
       "      <td>0</td>\n",
       "      <td>2019-11-17</td>\n",
       "      <td>True</td>\n",
       "      <td>336.5</td>\n",
       "      <td>253880</td>\n",
       "      <td>2</td>\n",
       "    </tr>\n",
       "    <tr>\n",
       "      <th>3</th>\n",
       "      <td>703080</td>\n",
       "      <td>0</td>\n",
       "      <td>0</td>\n",
       "      <td>2022-09-23</td>\n",
       "      <td>True</td>\n",
       "      <td>27.4</td>\n",
       "      <td>259432</td>\n",
       "      <td>3</td>\n",
       "    </tr>\n",
       "    <tr>\n",
       "      <th>4</th>\n",
       "      <td>526870</td>\n",
       "      <td>0</td>\n",
       "      <td>0</td>\n",
       "      <td>2021-01-10</td>\n",
       "      <td>True</td>\n",
       "      <td>7.9</td>\n",
       "      <td>23869</td>\n",
       "      <td>4</td>\n",
       "    </tr>\n",
       "  </tbody>\n",
       "</table>\n",
       "</div>"
      ],
      "text/plain": [
       "    app_id  helpful  funny        date  is_recommended  hours  user_id  \\\n",
       "0   975370        0      0  2022-12-12            True   36.3    51580   \n",
       "1   304390        4      0  2017-02-17           False   11.5     2586   \n",
       "2  1085660        2      0  2019-11-17            True  336.5   253880   \n",
       "3   703080        0      0  2022-09-23            True   27.4   259432   \n",
       "4   526870        0      0  2021-01-10            True    7.9    23869   \n",
       "\n",
       "   review_id  \n",
       "0          0  \n",
       "1          1  \n",
       "2          2  \n",
       "3          3  \n",
       "4          4  "
      ]
     },
     "execution_count": 7,
     "metadata": {},
     "output_type": "execute_result"
    }
   ],
   "source": [
    "recommend_df.head()"
   ]
  },
  {
   "cell_type": "code",
   "execution_count": 9,
   "metadata": {
    "id": "XUfq9EzWCaPD"
   },
   "outputs": [
    {
     "data": {
      "text/html": [
       "<div>\n",
       "<style scoped>\n",
       "    .dataframe tbody tr th:only-of-type {\n",
       "        vertical-align: middle;\n",
       "    }\n",
       "\n",
       "    .dataframe tbody tr th {\n",
       "        vertical-align: top;\n",
       "    }\n",
       "\n",
       "    .dataframe thead th {\n",
       "        text-align: right;\n",
       "    }\n",
       "</style>\n",
       "<table border=\"1\" class=\"dataframe\">\n",
       "  <thead>\n",
       "    <tr style=\"text-align: right;\">\n",
       "      <th></th>\n",
       "      <th>app_id</th>\n",
       "      <th>description</th>\n",
       "      <th>tags</th>\n",
       "    </tr>\n",
       "  </thead>\n",
       "  <tbody>\n",
       "    <tr>\n",
       "      <th>0</th>\n",
       "      <td>13500</td>\n",
       "      <td>Enter the dark underworld of Prince of Persia ...</td>\n",
       "      <td>[Action, Adventure, Parkour, Third Person, Gre...</td>\n",
       "    </tr>\n",
       "    <tr>\n",
       "      <th>1</th>\n",
       "      <td>22364</td>\n",
       "      <td></td>\n",
       "      <td>[Action]</td>\n",
       "    </tr>\n",
       "    <tr>\n",
       "      <th>2</th>\n",
       "      <td>113020</td>\n",
       "      <td>Monaco: What's Yours Is Mine is a single playe...</td>\n",
       "      <td>[Co-op, Stealth, Indie, Heist, Local Co-Op, St...</td>\n",
       "    </tr>\n",
       "    <tr>\n",
       "      <th>3</th>\n",
       "      <td>226560</td>\n",
       "      <td>Escape Dead Island is a Survival-Mystery adven...</td>\n",
       "      <td>[Zombies, Adventure, Survival, Action, Third P...</td>\n",
       "    </tr>\n",
       "    <tr>\n",
       "      <th>4</th>\n",
       "      <td>249050</td>\n",
       "      <td>Dungeon of the Endless is a Rogue-Like Dungeon...</td>\n",
       "      <td>[Roguelike, Strategy, Tower Defense, Pixel Gra...</td>\n",
       "    </tr>\n",
       "  </tbody>\n",
       "</table>\n",
       "</div>"
      ],
      "text/plain": [
       "   app_id                                        description  \\\n",
       "0   13500  Enter the dark underworld of Prince of Persia ...   \n",
       "1   22364                                                      \n",
       "2  113020  Monaco: What's Yours Is Mine is a single playe...   \n",
       "3  226560  Escape Dead Island is a Survival-Mystery adven...   \n",
       "4  249050  Dungeon of the Endless is a Rogue-Like Dungeon...   \n",
       "\n",
       "                                                tags  \n",
       "0  [Action, Adventure, Parkour, Third Person, Gre...  \n",
       "1                                           [Action]  \n",
       "2  [Co-op, Stealth, Indie, Heist, Local Co-Op, St...  \n",
       "3  [Zombies, Adventure, Survival, Action, Third P...  \n",
       "4  [Roguelike, Strategy, Tower Defense, Pixel Gra...  "
      ]
     },
     "execution_count": 9,
     "metadata": {},
     "output_type": "execute_result"
    }
   ],
   "source": [
    "games_metadata_df = pd.read_json(data_fold + '/games_metadata.json', lines=True)\n",
    "games_metadata_df.head()"
   ]
  },
  {
   "cell_type": "code",
   "execution_count": 10,
   "metadata": {
    "id": "KnE-BBs6CaPD"
   },
   "outputs": [
    {
     "name": "stdout",
     "output_type": "stream",
     "text": [
      "\n",
      "Null values in game_df :\n",
      "app_id            0\n",
      "title             0\n",
      "date_release      0\n",
      "win               0\n",
      "mac               0\n",
      "linux             0\n",
      "rating            0\n",
      "positive_ratio    0\n",
      "user_reviews      0\n",
      "price_final       0\n",
      "price_original    0\n",
      "discount          0\n",
      "steam_deck        0\n",
      "dtype: int64\n",
      "Dimension of game_df: (50872, 13)\n",
      "\n",
      "Null values in users_df :\n",
      "user_id     0\n",
      "products    0\n",
      "reviews     0\n",
      "dtype: int64\n",
      "Dimension of users_df: (14306064, 3)\n",
      "\n",
      "Null values in recommend_df :\n",
      "app_id            0\n",
      "helpful           0\n",
      "funny             0\n",
      "date              0\n",
      "is_recommended    0\n",
      "hours             0\n",
      "user_id           0\n",
      "review_id         0\n",
      "dtype: int64\n",
      "Dimension of recommend_df: (41154794, 8)\n",
      "\n",
      "Number of unique values in game_df:  50872\n",
      "Number of unique values in users_df:  14306064\n",
      "Full review matrix will have :  727778087808\n",
      "--------------------\n",
      "Unique Review values (is_recommended) :  [ True False]\n",
      "Number of reviews :  41154794\n",
      "0.005654854781895731 % of the review matrix is filled\n"
     ]
    }
   ],
   "source": [
    "dataframes = {\n",
    "    'game_df' : game_df,\n",
    "    'users_df' : user_df,\n",
    "    'recommend_df' : recommend_df\n",
    "}\n",
    "\n",
    "for name, df in dataframes.items():\n",
    "    print(f\"\\nNull values in {name} :\\n{df.isna().sum()}\")\n",
    "\n",
    "    df_dimension = df.shape\n",
    "\n",
    "    print(f\"Dimension of {name}: {df_dimension}\")\n",
    "\n",
    "n_games = game_df['app_id'].nunique()\n",
    "n_users = user_df['user_id'].nunique()\n",
    "n_reviews = len(recommend_df)\n",
    "\n",
    "unique_review_values = recommend_df['is_recommended'].unique()\n",
    "\n",
    "print('\\nNumber of unique values in game_df: ', n_games)\n",
    "print('Number of unique values in users_df: ', n_users)\n",
    "print('Full review matrix will have : ', n_games * n_users)\n",
    "print('-' * 20)\n",
    "print(\"Unique Review values (is_recommended) : \", unique_review_values)\n",
    "print('Number of reviews : ', n_reviews)\n",
    "print(n_reviews / (n_games * n_users) * 100, '% of the review matrix is filled')"
   ]
  },
  {
   "cell_type": "markdown",
   "metadata": {
    "id": "k9t97cBqCaPD"
   },
   "source": [
    "> # **Data Preprocessing**"
   ]
  },
  {
   "cell_type": "markdown",
   "metadata": {
    "id": "jZP6sODWCaPD"
   },
   "source": [
    "> ## **Games Dataset**"
   ]
  },
  {
   "cell_type": "markdown",
   "metadata": {
    "id": "_U9ZKycjCaPD"
   },
   "source": [
    "We will filter game_df dataset so that it helps with our recommendation model, eg:\n",
    "\n",
    "- **Platform** : Games that do not support Windows OS will be filtered out since most games are compatible with Windows\n",
    "\n",
    "- **Price** : Filtering out games based on price (less than 3$ might be demos, more than 70 might be triple A games), and free games\n",
    "\n",
    "- **Ratings** : Filter out game with ratings of \"Overwhelmingly negative\" or \"very negative\""
   ]
  },
  {
   "cell_type": "code",
   "execution_count": 11,
   "metadata": {
    "id": "UebA87M-CaPD"
   },
   "outputs": [],
   "source": [
    "def clean_game_dataset(game_df):\n",
    "    clean_game_price_df = game_df[\n",
    "        ((game_df['price_original']) == 0.00) | ((game_df['price_original'] >= 2.99) & (game_df['price_original'] <= 70.00))\n",
    "    ]\n",
    "    print('Original game_df dimension : ', game_df.shape)\n",
    "    print('Filtered price_original game_df dimension : ', clean_game_price_df.shape)\n",
    "\n",
    "    clean_game_platform_df = clean_game_price_df[\n",
    "        clean_game_price_df['win']\n",
    "    ]\n",
    "    print('Filtered Windows platform game_df dimension : ', clean_game_platform_df.shape)\n",
    "\n",
    "    ratings_to_filter = ['Overwhelmingly Negative', 'Very Negative']\n",
    "    clean_game_ratings_df = clean_game_platform_df[\n",
    "        ~clean_game_platform_df['rating'].isin(ratings_to_filter)\n",
    "    ]\n",
    "    print('Filtered negative ratings game_df dimension : ', clean_game_ratings_df.shape)\n",
    "\n",
    "    return clean_game_ratings_df"
   ]
  },
  {
   "cell_type": "code",
   "execution_count": 12,
   "metadata": {
    "id": "dlWGu9FHCaPD"
   },
   "outputs": [
    {
     "name": "stdout",
     "output_type": "stream",
     "text": [
      "Original game_df dimension :  (50872, 13)\n",
      "Filtered price_original game_df dimension :  (44202, 13)\n",
      "Filtered Windows platform game_df dimension :  (43475, 13)\n",
      "Filtered negative ratings game_df dimension :  (43405, 13)\n"
     ]
    }
   ],
   "source": [
    "# Preprocess game_df\n",
    "clean_game_df = clean_game_dataset(game_df)"
   ]
  },
  {
   "cell_type": "markdown",
   "metadata": {
    "id": "5E1YHVJfCaPE"
   },
   "source": [
    "> ## **User Dataset**"
   ]
  },
  {
   "cell_type": "code",
   "execution_count": 13,
   "metadata": {
    "id": "rnFStaZLCaPE"
   },
   "outputs": [
    {
     "data": {
      "text/html": [
       "<div>\n",
       "<style scoped>\n",
       "    .dataframe tbody tr th:only-of-type {\n",
       "        vertical-align: middle;\n",
       "    }\n",
       "\n",
       "    .dataframe tbody tr th {\n",
       "        vertical-align: top;\n",
       "    }\n",
       "\n",
       "    .dataframe thead th {\n",
       "        text-align: right;\n",
       "    }\n",
       "</style>\n",
       "<table border=\"1\" class=\"dataframe\">\n",
       "  <thead>\n",
       "    <tr style=\"text-align: right;\">\n",
       "      <th></th>\n",
       "      <th>user_id</th>\n",
       "      <th>products</th>\n",
       "      <th>reviews</th>\n",
       "    </tr>\n",
       "  </thead>\n",
       "  <tbody>\n",
       "    <tr>\n",
       "      <th>0</th>\n",
       "      <td>7360263</td>\n",
       "      <td>359</td>\n",
       "      <td>0</td>\n",
       "    </tr>\n",
       "    <tr>\n",
       "      <th>1</th>\n",
       "      <td>14020781</td>\n",
       "      <td>156</td>\n",
       "      <td>1</td>\n",
       "    </tr>\n",
       "    <tr>\n",
       "      <th>2</th>\n",
       "      <td>8762579</td>\n",
       "      <td>329</td>\n",
       "      <td>4</td>\n",
       "    </tr>\n",
       "    <tr>\n",
       "      <th>3</th>\n",
       "      <td>4820647</td>\n",
       "      <td>176</td>\n",
       "      <td>4</td>\n",
       "    </tr>\n",
       "    <tr>\n",
       "      <th>4</th>\n",
       "      <td>5167327</td>\n",
       "      <td>98</td>\n",
       "      <td>2</td>\n",
       "    </tr>\n",
       "  </tbody>\n",
       "</table>\n",
       "</div>"
      ],
      "text/plain": [
       "    user_id  products  reviews\n",
       "0   7360263       359        0\n",
       "1  14020781       156        1\n",
       "2   8762579       329        4\n",
       "3   4820647       176        4\n",
       "4   5167327        98        2"
      ]
     },
     "execution_count": 13,
     "metadata": {},
     "output_type": "execute_result"
    }
   ],
   "source": [
    "user_df.head()"
   ]
  },
  {
   "cell_type": "code",
   "execution_count": 14,
   "metadata": {
    "id": "IxqhHmAhCaPE"
   },
   "outputs": [
    {
     "data": {
      "text/html": [
       "<div>\n",
       "<style scoped>\n",
       "    .dataframe tbody tr th:only-of-type {\n",
       "        vertical-align: middle;\n",
       "    }\n",
       "\n",
       "    .dataframe tbody tr th {\n",
       "        vertical-align: top;\n",
       "    }\n",
       "\n",
       "    .dataframe thead th {\n",
       "        text-align: right;\n",
       "    }\n",
       "</style>\n",
       "<table border=\"1\" class=\"dataframe\">\n",
       "  <thead>\n",
       "    <tr style=\"text-align: right;\">\n",
       "      <th></th>\n",
       "      <th>products</th>\n",
       "      <th>reviews</th>\n",
       "    </tr>\n",
       "  </thead>\n",
       "  <tbody>\n",
       "    <tr>\n",
       "      <th>count</th>\n",
       "      <td>14306064.00</td>\n",
       "      <td>14306064.00</td>\n",
       "    </tr>\n",
       "    <tr>\n",
       "      <th>mean</th>\n",
       "      <td>116.37</td>\n",
       "      <td>2.88</td>\n",
       "    </tr>\n",
       "    <tr>\n",
       "      <th>std</th>\n",
       "      <td>243.85</td>\n",
       "      <td>7.99</td>\n",
       "    </tr>\n",
       "    <tr>\n",
       "      <th>min</th>\n",
       "      <td>0.00</td>\n",
       "      <td>0.00</td>\n",
       "    </tr>\n",
       "    <tr>\n",
       "      <th>25%</th>\n",
       "      <td>23.00</td>\n",
       "      <td>1.00</td>\n",
       "    </tr>\n",
       "    <tr>\n",
       "      <th>50%</th>\n",
       "      <td>55.00</td>\n",
       "      <td>1.00</td>\n",
       "    </tr>\n",
       "    <tr>\n",
       "      <th>75%</th>\n",
       "      <td>127.00</td>\n",
       "      <td>3.00</td>\n",
       "    </tr>\n",
       "    <tr>\n",
       "      <th>max</th>\n",
       "      <td>32214.00</td>\n",
       "      <td>6045.00</td>\n",
       "    </tr>\n",
       "  </tbody>\n",
       "</table>\n",
       "</div>"
      ],
      "text/plain": [
       "         products     reviews\n",
       "count 14306064.00 14306064.00\n",
       "mean       116.37        2.88\n",
       "std        243.85        7.99\n",
       "min          0.00        0.00\n",
       "25%         23.00        1.00\n",
       "50%         55.00        1.00\n",
       "75%        127.00        3.00\n",
       "max      32214.00     6045.00"
      ]
     },
     "execution_count": 14,
     "metadata": {},
     "output_type": "execute_result"
    }
   ],
   "source": [
    "pd.set_option('display.float_format', '{:.2f}'.format)\n",
    "user_df.drop(columns = 'user_id').describe()"
   ]
  },
  {
   "cell_type": "markdown",
   "metadata": {
    "id": "0hlg7nrkCaPE"
   },
   "source": [
    "The **maximum number of products** a user bought as shown was **32,214**, as well as the **maximum number of reviews** a user has given was **6,045**.\n",
    "\n",
    "The **average number of products** user bought were around **116**, whereas the **average number of reviews** a user has given was around **2 to 3 reviews**."
   ]
  },
  {
   "cell_type": "code",
   "execution_count": 15,
   "metadata": {
    "id": "dFXa63wgCaPE"
   },
   "outputs": [],
   "source": [
    "def thresholds(dataframe, column_name: str, moderate_outlier = True):\n",
    "    Q1 = dataframe[column_name].quantile(.25)\n",
    "    Q2 = dataframe[column_name].quantile(.5)\n",
    "    Q3 = dataframe[column_name].quantile(.75)\n",
    "\n",
    "    IQR = Q3 - Q1\n",
    "\n",
    "    multiplier = 1.5 if moderate_outlier else 3\n",
    "    left_threshold = Q1 - multiplier * IQR\n",
    "    right_threshold = Q3 + multiplier * IQR\n",
    "    print(left_threshold, ', ', right_threshold)\n",
    "\n",
    "    return left_threshold, right_threshold"
   ]
  },
  {
   "cell_type": "code",
   "execution_count": 16,
   "metadata": {
    "id": "OXHeikihCaPE"
   },
   "outputs": [
    {
     "data": {
      "image/png": "[encoded data removed]",
      "text/plain": [
       "<Figure size 1200x600 with 1 Axes>"
      ]
     },
     "metadata": {},
     "output_type": "display_data"
    }
   ],
   "source": [
    "plt.figure(figsize=(12, 6))\n",
    "sns.boxplot(x=user_df['products'], color=\"skyblue\")\n",
    "plt.title('Number of Products')\n",
    "plt.show()"
   ]
  },
  {
   "cell_type": "code",
   "execution_count": 18,
   "metadata": {
    "id": "pILqJ1QxCaPE"
   },
   "outputs": [
    {
     "name": "stdout",
     "output_type": "stream",
     "text": [
      "-133.0 ,  283.0\n"
     ]
    }
   ],
   "source": [
    "min_product_threshold, max_product_threshold = thresholds(user_df, 'products')"
   ]
  },
  {
   "cell_type": "code",
   "execution_count": 19,
   "metadata": {
    "id": "9HxstSQ8CaPE"
   },
   "outputs": [],
   "source": [
    "def threshold_filtering(dataframe, column_name : str, min_threshold: float, max_threshold : float):\n",
    "    clean_dataframe = dataframe[\n",
    "        (dataframe[column_name] > min_threshold) &\n",
    "        (dataframe[column_name] <= max_threshold)\n",
    "    ]\n",
    "\n",
    "    print(\"Before threshold filter : \", dataframe.shape)\n",
    "    print(\"After threshold filter : \", clean_dataframe.shape)\n",
    "    return clean_dataframe"
   ]
  },
  {
   "cell_type": "code",
   "execution_count": 20,
   "metadata": {
    "id": "TSePA1hECaPE"
   },
   "outputs": [
    {
     "name": "stdout",
     "output_type": "stream",
     "text": [
      "Before threshold filter :  (14306064, 3)\n",
      "After threshold filter :  (12909300, 3)\n"
     ]
    }
   ],
   "source": [
    "clean_user_product_df = threshold_filtering(\n",
    "    user_df, 'products', min_threshold = 0, max_threshold = max_product_threshold\n",
    ")"
   ]
  },
  {
   "cell_type": "code",
   "execution_count": 21,
   "metadata": {
    "id": "uizXiYKwCaPE"
   },
   "outputs": [
    {
     "data": {
      "image/png": "[encoded data removed]",
      "text/plain": [
       "<Figure size 1200x600 with 1 Axes>"
      ]
     },
     "metadata": {},
     "output_type": "display_data"
    }
   ],
   "source": [
    "plt.figure(figsize=(12, 6))\n",
    "sns.boxplot(x = user_df['reviews'], color = \"skyblue\")\n",
    "plt.title('Number of Reviews')\n",
    "plt.show()"
   ]
  },
  {
   "cell_type": "code",
   "execution_count": 22,
   "metadata": {
    "id": "X_nP70S3CaPE"
   },
   "outputs": [
    {
     "name": "stdout",
     "output_type": "stream",
     "text": [
      "-2.0 ,  5.0\n",
      "Before threshold filter :  (12909300, 3)\n",
      "After threshold filter :  (11336988, 3)\n"
     ]
    }
   ],
   "source": [
    "\n",
    "min_review_threshold, max_review_threshold = thresholds(\n",
    "    clean_user_product_df, 'reviews', moderate_outlier = False\n",
    ")\n",
    "\n",
    "clean_user_df = threshold_filtering(\n",
    "    clean_user_product_df, 'reviews', min_threshold = 0, max_threshold = max_review_threshold\n",
    ")"
   ]
  },
  {
   "cell_type": "markdown",
   "metadata": {
    "id": "lk_JKG1vCaPE"
   },
   "source": [
    "> ## **Recommend Dataset**"
   ]
  },
  {
   "cell_type": "code",
   "execution_count": 23,
   "metadata": {
    "id": "p4a4FKJxCaPE"
   },
   "outputs": [
    {
     "data": {
      "text/html": [
       "<div>\n",
       "<style scoped>\n",
       "    .dataframe tbody tr th:only-of-type {\n",
       "        vertical-align: middle;\n",
       "    }\n",
       "\n",
       "    .dataframe tbody tr th {\n",
       "        vertical-align: top;\n",
       "    }\n",
       "\n",
       "    .dataframe thead th {\n",
       "        text-align: right;\n",
       "    }\n",
       "</style>\n",
       "<table border=\"1\" class=\"dataframe\">\n",
       "  <thead>\n",
       "    <tr style=\"text-align: right;\">\n",
       "      <th></th>\n",
       "      <th>app_id</th>\n",
       "      <th>helpful</th>\n",
       "      <th>funny</th>\n",
       "      <th>date</th>\n",
       "      <th>is_recommended</th>\n",
       "      <th>hours</th>\n",
       "      <th>user_id</th>\n",
       "      <th>review_id</th>\n",
       "    </tr>\n",
       "  </thead>\n",
       "  <tbody>\n",
       "    <tr>\n",
       "      <th>0</th>\n",
       "      <td>975370</td>\n",
       "      <td>0</td>\n",
       "      <td>0</td>\n",
       "      <td>2022-12-12</td>\n",
       "      <td>True</td>\n",
       "      <td>36.30</td>\n",
       "      <td>51580</td>\n",
       "      <td>0</td>\n",
       "    </tr>\n",
       "    <tr>\n",
       "      <th>1</th>\n",
       "      <td>304390</td>\n",
       "      <td>4</td>\n",
       "      <td>0</td>\n",
       "      <td>2017-02-17</td>\n",
       "      <td>False</td>\n",
       "      <td>11.50</td>\n",
       "      <td>2586</td>\n",
       "      <td>1</td>\n",
       "    </tr>\n",
       "    <tr>\n",
       "      <th>2</th>\n",
       "      <td>1085660</td>\n",
       "      <td>2</td>\n",
       "      <td>0</td>\n",
       "      <td>2019-11-17</td>\n",
       "      <td>True</td>\n",
       "      <td>336.50</td>\n",
       "      <td>253880</td>\n",
       "      <td>2</td>\n",
       "    </tr>\n",
       "    <tr>\n",
       "      <th>3</th>\n",
       "      <td>703080</td>\n",
       "      <td>0</td>\n",
       "      <td>0</td>\n",
       "      <td>2022-09-23</td>\n",
       "      <td>True</td>\n",
       "      <td>27.40</td>\n",
       "      <td>259432</td>\n",
       "      <td>3</td>\n",
       "    </tr>\n",
       "    <tr>\n",
       "      <th>4</th>\n",
       "      <td>526870</td>\n",
       "      <td>0</td>\n",
       "      <td>0</td>\n",
       "      <td>2021-01-10</td>\n",
       "      <td>True</td>\n",
       "      <td>7.90</td>\n",
       "      <td>23869</td>\n",
       "      <td>4</td>\n",
       "    </tr>\n",
       "  </tbody>\n",
       "</table>\n",
       "</div>"
      ],
      "text/plain": [
       "    app_id  helpful  funny        date  is_recommended  hours  user_id  \\\n",
       "0   975370        0      0  2022-12-12            True  36.30    51580   \n",
       "1   304390        4      0  2017-02-17           False  11.50     2586   \n",
       "2  1085660        2      0  2019-11-17            True 336.50   253880   \n",
       "3   703080        0      0  2022-09-23            True  27.40   259432   \n",
       "4   526870        0      0  2021-01-10            True   7.90    23869   \n",
       "\n",
       "   review_id  \n",
       "0          0  \n",
       "1          1  \n",
       "2          2  \n",
       "3          3  \n",
       "4          4  "
      ]
     },
     "execution_count": 23,
     "metadata": {},
     "output_type": "execute_result"
    }
   ],
   "source": [
    "recommend_df.head()"
   ]
  },
  {
   "cell_type": "code",
   "execution_count": 24,
   "metadata": {
    "id": "elhy0jmICaPE"
   },
   "outputs": [
    {
     "data": {
      "text/plain": [
       "count   41154794.00\n",
       "mean         100.60\n",
       "std          176.17\n",
       "min            0.00\n",
       "25%            7.80\n",
       "50%           27.30\n",
       "75%           99.20\n",
       "max         1000.00\n",
       "Name: hours, dtype: float64"
      ]
     },
     "execution_count": 24,
     "metadata": {},
     "output_type": "execute_result"
    }
   ],
   "source": [
    "recommend_df.hours.describe()"
   ]
  },
  {
   "cell_type": "code",
   "execution_count": 25,
   "metadata": {
    "id": "E_o2WPmECaPE"
   },
   "outputs": [
    {
     "data": {
      "image/png": "[encoded data removed]",
      "text/plain": [
       "<Figure size 1200x600 with 1 Axes>"
      ]
     },
     "metadata": {},
     "output_type": "display_data"
    }
   ],
   "source": [
    "plt.figure(figsize=(12, 6))\n",
    "sns.boxplot(x = recommend_df.hours, color = \"skyblue\")\n",
    "plt.title('Number of Hours Played')\n",
    "plt.show()"
   ]
  },
  {
   "cell_type": "code",
   "execution_count": 27,
   "metadata": {
    "id": "WwZqndRnCaPE"
   },
   "outputs": [
    {
     "name": "stdout",
     "output_type": "stream",
     "text": [
      "-129.3 ,  236.3\n",
      "Before threshold filter :  (41154794, 8)\n",
      "After threshold filter :  (30614240, 8)\n"
     ]
    }
   ],
   "source": [
    "min_hours_played_threshold, max_hours_played_threshold = thresholds(\n",
    "    recommend_df, 'hours', moderate_outlier = True\n",
    ")\n",
    "\n",
    "clean_recommend_df = threshold_filtering(\n",
    "    recommend_df, 'hours', min_threshold = 3, max_threshold = max_hours_played_threshold\n",
    ")"
   ]
  },
  {
   "cell_type": "markdown",
   "metadata": {
    "id": "H_pPE4q7CaPE"
   },
   "source": [
    "> ## **Final Recommendation Dataset**"
   ]
  },
  {
   "cell_type": "markdown",
   "metadata": {
    "id": "bnvmc2ZvCaPE"
   },
   "source": [
    "We will remove the game and users from recommendations dataset (clean_recommend_df) that are filtered out.\n",
    "\n",
    "Cleaned Dataframes = clean_game_df, clean_user_df, clean_recommend_df"
   ]
  },
  {
   "cell_type": "code",
   "execution_count": 28,
   "metadata": {
    "id": "c03vPeM_CaPE"
   },
   "outputs": [
    {
     "name": "stdout",
     "output_type": "stream",
     "text": [
      "Recommendation Dataset before filtering :  (30614240, 8)\n",
      "Recommendation Dataset after filtering :  (13798007, 8)\n"
     ]
    }
   ],
   "source": [
    "clean_recommendations = clean_recommend_df[\n",
    "    (clean_recommend_df['app_id'].isin(clean_game_df['app_id'])) &\n",
    "    (clean_recommend_df['user_id'].isin(clean_user_df['user_id']))\n",
    "]\n",
    "\n",
    "print('Recommendation Dataset before filtering : ', clean_recommend_df.shape)\n",
    "print('Recommendation Dataset after filtering : ', clean_recommendations.shape)"
   ]
  },
  {
   "cell_type": "markdown",
   "metadata": {
    "id": "rPnpmLRECaPE"
   },
   "source": [
    "These are the reviews from recommend_df which is filtered based on :\n",
    "\n",
    "- game-filtering conditions for recommendation (price, platform compatability, reviews)\n",
    "\n",
    "- the amount of products users bought\n",
    "\n",
    "- the number of reviews given\n",
    "\n",
    "- hours played for the game so reviews are more genuine\n"
   ]
  },
  {
   "cell_type": "code",
   "execution_count": 29,
   "metadata": {
    "id": "nC0rzkg7CaPE"
   },
   "outputs": [
    {
     "data": {
      "text/html": [
       "<div>\n",
       "<style scoped>\n",
       "    .dataframe tbody tr th:only-of-type {\n",
       "        vertical-align: middle;\n",
       "    }\n",
       "\n",
       "    .dataframe tbody tr th {\n",
       "        vertical-align: top;\n",
       "    }\n",
       "\n",
       "    .dataframe thead th {\n",
       "        text-align: right;\n",
       "    }\n",
       "</style>\n",
       "<table border=\"1\" class=\"dataframe\">\n",
       "  <thead>\n",
       "    <tr style=\"text-align: right;\">\n",
       "      <th></th>\n",
       "      <th>app_id</th>\n",
       "      <th>helpful</th>\n",
       "      <th>funny</th>\n",
       "      <th>date</th>\n",
       "      <th>is_recommended</th>\n",
       "      <th>hours</th>\n",
       "      <th>user_id</th>\n",
       "      <th>review_id</th>\n",
       "    </tr>\n",
       "  </thead>\n",
       "  <tbody>\n",
       "    <tr>\n",
       "      <th>0</th>\n",
       "      <td>975370</td>\n",
       "      <td>0</td>\n",
       "      <td>0</td>\n",
       "      <td>2022-12-12</td>\n",
       "      <td>True</td>\n",
       "      <td>36.30</td>\n",
       "      <td>51580</td>\n",
       "      <td>0</td>\n",
       "    </tr>\n",
       "    <tr>\n",
       "      <th>1</th>\n",
       "      <td>304390</td>\n",
       "      <td>4</td>\n",
       "      <td>0</td>\n",
       "      <td>2017-02-17</td>\n",
       "      <td>False</td>\n",
       "      <td>11.50</td>\n",
       "      <td>2586</td>\n",
       "      <td>1</td>\n",
       "    </tr>\n",
       "    <tr>\n",
       "      <th>3</th>\n",
       "      <td>703080</td>\n",
       "      <td>0</td>\n",
       "      <td>0</td>\n",
       "      <td>2022-09-23</td>\n",
       "      <td>True</td>\n",
       "      <td>27.40</td>\n",
       "      <td>259432</td>\n",
       "      <td>3</td>\n",
       "    </tr>\n",
       "    <tr>\n",
       "      <th>4</th>\n",
       "      <td>526870</td>\n",
       "      <td>0</td>\n",
       "      <td>0</td>\n",
       "      <td>2021-01-10</td>\n",
       "      <td>True</td>\n",
       "      <td>7.90</td>\n",
       "      <td>23869</td>\n",
       "      <td>4</td>\n",
       "    </tr>\n",
       "    <tr>\n",
       "      <th>5</th>\n",
       "      <td>306130</td>\n",
       "      <td>0</td>\n",
       "      <td>0</td>\n",
       "      <td>2021-10-10</td>\n",
       "      <td>True</td>\n",
       "      <td>8.60</td>\n",
       "      <td>45425</td>\n",
       "      <td>5</td>\n",
       "    </tr>\n",
       "  </tbody>\n",
       "</table>\n",
       "</div>"
      ],
      "text/plain": [
       "   app_id  helpful  funny        date  is_recommended  hours  user_id  \\\n",
       "0  975370        0      0  2022-12-12            True  36.30    51580   \n",
       "1  304390        4      0  2017-02-17           False  11.50     2586   \n",
       "3  703080        0      0  2022-09-23            True  27.40   259432   \n",
       "4  526870        0      0  2021-01-10            True   7.90    23869   \n",
       "5  306130        0      0  2021-10-10            True   8.60    45425   \n",
       "\n",
       "   review_id  \n",
       "0          0  \n",
       "1          1  \n",
       "3          3  \n",
       "4          4  \n",
       "5          5  "
      ]
     },
     "execution_count": 29,
     "metadata": {},
     "output_type": "execute_result"
    }
   ],
   "source": [
    "clean_recommendations.head()"
   ]
  },
  {
   "cell_type": "markdown",
   "metadata": {
    "id": "DahT7ahMCaPE"
   },
   "source": [
    "> ## **Game Metadata Dataset**"
   ]
  },
  {
   "cell_type": "code",
   "execution_count": 30,
   "metadata": {
    "id": "S-Dc_6BsCaPH"
   },
   "outputs": [
    {
     "name": "stdout",
     "output_type": "stream",
     "text": [
      "Game Metadata dataset before filtering :  (50872, 3)\n",
      "Game Metadata dataset after filtering :  (43405, 3)\n"
     ]
    }
   ],
   "source": [
    "clean_games_metadata_df = games_metadata_df[\n",
    "    games_metadata_df['app_id'].isin(clean_game_df['app_id'])\n",
    "]\n",
    "\n",
    "print(\"Game Metadata dataset before filtering : \", games_metadata_df.shape)\n",
    "print(\"Game Metadata dataset after filtering : \", clean_games_metadata_df.shape)"
   ]
  },
  {
   "cell_type": "code",
   "execution_count": 31,
   "metadata": {
    "id": "Dd16sbWYCaPH"
   },
   "outputs": [
    {
     "data": {
      "text/html": [
       "<div>\n",
       "<style scoped>\n",
       "    .dataframe tbody tr th:only-of-type {\n",
       "        vertical-align: middle;\n",
       "    }\n",
       "\n",
       "    .dataframe tbody tr th {\n",
       "        vertical-align: top;\n",
       "    }\n",
       "\n",
       "    .dataframe thead th {\n",
       "        text-align: right;\n",
       "    }\n",
       "</style>\n",
       "<table border=\"1\" class=\"dataframe\">\n",
       "  <thead>\n",
       "    <tr style=\"text-align: right;\">\n",
       "      <th></th>\n",
       "      <th>app_id</th>\n",
       "      <th>description</th>\n",
       "      <th>tags</th>\n",
       "    </tr>\n",
       "  </thead>\n",
       "  <tbody>\n",
       "    <tr>\n",
       "      <th>0</th>\n",
       "      <td>13500</td>\n",
       "      <td>Enter the dark underworld of Prince of Persia ...</td>\n",
       "      <td>[Action, Adventure, Parkour, Third Person, Gre...</td>\n",
       "    </tr>\n",
       "    <tr>\n",
       "      <th>1</th>\n",
       "      <td>22364</td>\n",
       "      <td></td>\n",
       "      <td>[Action]</td>\n",
       "    </tr>\n",
       "    <tr>\n",
       "      <th>2</th>\n",
       "      <td>113020</td>\n",
       "      <td>Monaco: What's Yours Is Mine is a single playe...</td>\n",
       "      <td>[Co-op, Stealth, Indie, Heist, Local Co-Op, St...</td>\n",
       "    </tr>\n",
       "    <tr>\n",
       "      <th>3</th>\n",
       "      <td>226560</td>\n",
       "      <td>Escape Dead Island is a Survival-Mystery adven...</td>\n",
       "      <td>[Zombies, Adventure, Survival, Action, Third P...</td>\n",
       "    </tr>\n",
       "    <tr>\n",
       "      <th>4</th>\n",
       "      <td>249050</td>\n",
       "      <td>Dungeon of the Endless is a Rogue-Like Dungeon...</td>\n",
       "      <td>[Roguelike, Strategy, Tower Defense, Pixel Gra...</td>\n",
       "    </tr>\n",
       "  </tbody>\n",
       "</table>\n",
       "</div>"
      ],
      "text/plain": [
       "   app_id                                        description  \\\n",
       "0   13500  Enter the dark underworld of Prince of Persia ...   \n",
       "1   22364                                                      \n",
       "2  113020  Monaco: What's Yours Is Mine is a single playe...   \n",
       "3  226560  Escape Dead Island is a Survival-Mystery adven...   \n",
       "4  249050  Dungeon of the Endless is a Rogue-Like Dungeon...   \n",
       "\n",
       "                                                tags  \n",
       "0  [Action, Adventure, Parkour, Third Person, Gre...  \n",
       "1                                           [Action]  \n",
       "2  [Co-op, Stealth, Indie, Heist, Local Co-Op, St...  \n",
       "3  [Zombies, Adventure, Survival, Action, Third P...  \n",
       "4  [Roguelike, Strategy, Tower Defense, Pixel Gra...  "
      ]
     },
     "execution_count": 31,
     "metadata": {},
     "output_type": "execute_result"
    }
   ],
   "source": [
    "games_metadata_df.head()"
   ]
  },
  {
   "cell_type": "markdown",
   "metadata": {
    "id": "Cm3jBcd3CaPH"
   },
   "source": [
    "> # **Content-based Filtering**"
   ]
  },
  {
   "cell_type": "markdown",
   "metadata": {
    "id": "2ekZIfPYCaPH"
   },
   "source": [
    "> ## **Dataset Preparation**"
   ]
  },
  {
   "cell_type": "code",
   "execution_count": 32,
   "metadata": {
    "id": "XFvG1CnMCaPH"
   },
   "outputs": [
    {
     "data": {
      "text/html": [
       "<div>\n",
       "<style scoped>\n",
       "    .dataframe tbody tr th:only-of-type {\n",
       "        vertical-align: middle;\n",
       "    }\n",
       "\n",
       "    .dataframe tbody tr th {\n",
       "        vertical-align: top;\n",
       "    }\n",
       "\n",
       "    .dataframe thead th {\n",
       "        text-align: right;\n",
       "    }\n",
       "</style>\n",
       "<table border=\"1\" class=\"dataframe\">\n",
       "  <thead>\n",
       "    <tr style=\"text-align: right;\">\n",
       "      <th></th>\n",
       "      <th>app_id</th>\n",
       "      <th>title</th>\n",
       "      <th>date_release</th>\n",
       "      <th>win</th>\n",
       "      <th>mac</th>\n",
       "      <th>linux</th>\n",
       "      <th>rating</th>\n",
       "      <th>positive_ratio</th>\n",
       "      <th>user_reviews</th>\n",
       "      <th>price_final</th>\n",
       "      <th>price_original</th>\n",
       "      <th>discount</th>\n",
       "      <th>steam_deck</th>\n",
       "      <th>description</th>\n",
       "      <th>tags</th>\n",
       "    </tr>\n",
       "  </thead>\n",
       "  <tbody>\n",
       "    <tr>\n",
       "      <th>0</th>\n",
       "      <td>13500</td>\n",
       "      <td>Prince of Persia: Warrior Within™</td>\n",
       "      <td>2008-11-21</td>\n",
       "      <td>True</td>\n",
       "      <td>False</td>\n",
       "      <td>False</td>\n",
       "      <td>Very Positive</td>\n",
       "      <td>84</td>\n",
       "      <td>2199</td>\n",
       "      <td>9.99</td>\n",
       "      <td>9.99</td>\n",
       "      <td>0.00</td>\n",
       "      <td>True</td>\n",
       "      <td>Enter the dark underworld of Prince of Persia ...</td>\n",
       "      <td>[Action, Adventure, Parkour, Third Person, Gre...</td>\n",
       "    </tr>\n",
       "    <tr>\n",
       "      <th>1</th>\n",
       "      <td>22364</td>\n",
       "      <td>BRINK: Agents of Change</td>\n",
       "      <td>2011-08-03</td>\n",
       "      <td>True</td>\n",
       "      <td>False</td>\n",
       "      <td>False</td>\n",
       "      <td>Positive</td>\n",
       "      <td>85</td>\n",
       "      <td>21</td>\n",
       "      <td>2.99</td>\n",
       "      <td>2.99</td>\n",
       "      <td>0.00</td>\n",
       "      <td>True</td>\n",
       "      <td></td>\n",
       "      <td>[Action]</td>\n",
       "    </tr>\n",
       "    <tr>\n",
       "      <th>2</th>\n",
       "      <td>113020</td>\n",
       "      <td>Monaco: What's Yours Is Mine</td>\n",
       "      <td>2013-04-24</td>\n",
       "      <td>True</td>\n",
       "      <td>True</td>\n",
       "      <td>True</td>\n",
       "      <td>Very Positive</td>\n",
       "      <td>92</td>\n",
       "      <td>3722</td>\n",
       "      <td>14.99</td>\n",
       "      <td>14.99</td>\n",
       "      <td>0.00</td>\n",
       "      <td>True</td>\n",
       "      <td>Monaco: What's Yours Is Mine is a single playe...</td>\n",
       "      <td>[Co-op, Stealth, Indie, Heist, Local Co-Op, St...</td>\n",
       "    </tr>\n",
       "    <tr>\n",
       "      <th>3</th>\n",
       "      <td>226560</td>\n",
       "      <td>Escape Dead Island</td>\n",
       "      <td>2014-11-18</td>\n",
       "      <td>True</td>\n",
       "      <td>False</td>\n",
       "      <td>False</td>\n",
       "      <td>Mixed</td>\n",
       "      <td>61</td>\n",
       "      <td>873</td>\n",
       "      <td>14.99</td>\n",
       "      <td>14.99</td>\n",
       "      <td>0.00</td>\n",
       "      <td>True</td>\n",
       "      <td>Escape Dead Island is a Survival-Mystery adven...</td>\n",
       "      <td>[Zombies, Adventure, Survival, Action, Third P...</td>\n",
       "    </tr>\n",
       "    <tr>\n",
       "      <th>4</th>\n",
       "      <td>249050</td>\n",
       "      <td>Dungeon of the ENDLESS™</td>\n",
       "      <td>2014-10-27</td>\n",
       "      <td>True</td>\n",
       "      <td>True</td>\n",
       "      <td>False</td>\n",
       "      <td>Very Positive</td>\n",
       "      <td>88</td>\n",
       "      <td>8784</td>\n",
       "      <td>11.99</td>\n",
       "      <td>11.99</td>\n",
       "      <td>0.00</td>\n",
       "      <td>True</td>\n",
       "      <td>Dungeon of the Endless is a Rogue-Like Dungeon...</td>\n",
       "      <td>[Roguelike, Strategy, Tower Defense, Pixel Gra...</td>\n",
       "    </tr>\n",
       "  </tbody>\n",
       "</table>\n",
       "</div>"
      ],
      "text/plain": [
       "   app_id                              title date_release   win    mac  linux  \\\n",
       "0   13500  Prince of Persia: Warrior Within™   2008-11-21  True  False  False   \n",
       "1   22364            BRINK: Agents of Change   2011-08-03  True  False  False   \n",
       "2  113020       Monaco: What's Yours Is Mine   2013-04-24  True   True   True   \n",
       "3  226560                 Escape Dead Island   2014-11-18  True  False  False   \n",
       "4  249050            Dungeon of the ENDLESS™   2014-10-27  True   True  False   \n",
       "\n",
       "          rating  positive_ratio  user_reviews  price_final  price_original  \\\n",
       "0  Very Positive              84          2199         9.99            9.99   \n",
       "1       Positive              85            21         2.99            2.99   \n",
       "2  Very Positive              92          3722        14.99           14.99   \n",
       "3          Mixed              61           873        14.99           14.99   \n",
       "4  Very Positive              88          8784        11.99           11.99   \n",
       "\n",
       "   discount  steam_deck                                        description  \\\n",
       "0      0.00        True  Enter the dark underworld of Prince of Persia ...   \n",
       "1      0.00        True                                                      \n",
       "2      0.00        True  Monaco: What's Yours Is Mine is a single playe...   \n",
       "3      0.00        True  Escape Dead Island is a Survival-Mystery adven...   \n",
       "4      0.00        True  Dungeon of the Endless is a Rogue-Like Dungeon...   \n",
       "\n",
       "                                                tags  \n",
       "0  [Action, Adventure, Parkour, Third Person, Gre...  \n",
       "1                                           [Action]  \n",
       "2  [Co-op, Stealth, Indie, Heist, Local Co-Op, St...  \n",
       "3  [Zombies, Adventure, Survival, Action, Third P...  \n",
       "4  [Roguelike, Strategy, Tower Defense, Pixel Gra...  "
      ]
     },
     "execution_count": 32,
     "metadata": {},
     "output_type": "execute_result"
    }
   ],
   "source": [
    "games_with_info = pd.merge(\n",
    "    clean_game_df, clean_games_metadata_df, on = 'app_id', how = 'inner'\n",
    ")\n",
    "games_with_info.head()"
   ]
  },
  {
   "cell_type": "markdown",
   "metadata": {
    "id": "aHQEPE_iCaPI"
   },
   "source": [
    "> ## **TF-IDF Vectorization**"
   ]
  },
  {
   "cell_type": "markdown",
   "metadata": {
    "id": "PhvOwzjRCaPI"
   },
   "source": [
    "> ### Descriptions Matrix"
   ]
  },
  {
   "cell_type": "code",
   "execution_count": 33,
   "metadata": {
    "id": "TVQ_y-7iCaPI"
   },
   "outputs": [
    {
     "ename": "FileNotFoundError",
     "evalue": "[Errno 2] No such file or directory: '/kaggle/input/updated-steam-game-complete-metadata/games_with_complete_info.csv'",
     "output_type": "error",
     "traceback": [
      "\u001b[1;31m---------------------------------------------------------------------------\u001b[0m",
      "\u001b[1;31mFileNotFoundError\u001b[0m                         Traceback (most recent call last)",
      "Cell \u001b[1;32mIn[33], line 7\u001b[0m\n\u001b[0;32m      4\u001b[0m file \u001b[38;5;241m=\u001b[39m \u001b[38;5;124m'\u001b[39m\u001b[38;5;124m/kaggle/input/updated-steam-game-complete-metadata/games_with_complete_info.csv\u001b[39m\u001b[38;5;124m'\u001b[39m\n\u001b[0;32m      6\u001b[0m \u001b[38;5;66;03m# Detect encoding by reading a larger portion of the file\u001b[39;00m\n\u001b[1;32m----> 7\u001b[0m \u001b[38;5;28;01mwith\u001b[39;00m \u001b[38;5;28mopen\u001b[39m(file, \u001b[38;5;124m'\u001b[39m\u001b[38;5;124mrb\u001b[39m\u001b[38;5;124m'\u001b[39m) \u001b[38;5;28;01mas\u001b[39;00m f:\n\u001b[0;32m      8\u001b[0m     result \u001b[38;5;241m=\u001b[39m chardet\u001b[38;5;241m.\u001b[39mdetect(f\u001b[38;5;241m.\u001b[39mread(\u001b[38;5;241m1000000\u001b[39m))  \u001b[38;5;66;03m# Read first 1 MB for better detection\u001b[39;00m\n\u001b[0;32m      9\u001b[0m     encoding \u001b[38;5;241m=\u001b[39m result[\u001b[38;5;124m'\u001b[39m\u001b[38;5;124mencoding\u001b[39m\u001b[38;5;124m'\u001b[39m]\n",
      "File \u001b[1;32m~\\anaconda3\\Lib\\site-packages\\IPython\\core\\interactiveshell.py:324\u001b[0m, in \u001b[0;36m_modified_open\u001b[1;34m(file, *args, **kwargs)\u001b[0m\n\u001b[0;32m    317\u001b[0m \u001b[38;5;28;01mif\u001b[39;00m file \u001b[38;5;129;01min\u001b[39;00m {\u001b[38;5;241m0\u001b[39m, \u001b[38;5;241m1\u001b[39m, \u001b[38;5;241m2\u001b[39m}:\n\u001b[0;32m    318\u001b[0m     \u001b[38;5;28;01mraise\u001b[39;00m \u001b[38;5;167;01mValueError\u001b[39;00m(\n\u001b[0;32m    319\u001b[0m         \u001b[38;5;124mf\u001b[39m\u001b[38;5;124m\"\u001b[39m\u001b[38;5;124mIPython won\u001b[39m\u001b[38;5;124m'\u001b[39m\u001b[38;5;124mt let you open fd=\u001b[39m\u001b[38;5;132;01m{\u001b[39;00mfile\u001b[38;5;132;01m}\u001b[39;00m\u001b[38;5;124m by default \u001b[39m\u001b[38;5;124m\"\u001b[39m\n\u001b[0;32m    320\u001b[0m         \u001b[38;5;124m\"\u001b[39m\u001b[38;5;124mas it is likely to crash IPython. If you know what you are doing, \u001b[39m\u001b[38;5;124m\"\u001b[39m\n\u001b[0;32m    321\u001b[0m         \u001b[38;5;124m\"\u001b[39m\u001b[38;5;124myou can use builtins\u001b[39m\u001b[38;5;124m'\u001b[39m\u001b[38;5;124m open.\u001b[39m\u001b[38;5;124m\"\u001b[39m\n\u001b[0;32m    322\u001b[0m     )\n\u001b[1;32m--> 324\u001b[0m \u001b[38;5;28;01mreturn\u001b[39;00m io_open(file, \u001b[38;5;241m*\u001b[39margs, \u001b[38;5;241m*\u001b[39m\u001b[38;5;241m*\u001b[39mkwargs)\n",
      "\u001b[1;31mFileNotFoundError\u001b[0m: [Errno 2] No such file or directory: '/kaggle/input/updated-steam-game-complete-metadata/games_with_complete_info.csv'"
     ]
    }
   ],
   "source": [
    "import chardet\n",
    "import pandas as pd\n",
    "\n",
    "file = '/kaggle/input/updated-steam-game-complete-metadata/games_with_complete_info.csv'\n",
    "\n",
    "with open(file, 'rb') as f:\n",
    "    result = chardet.detect(f.read(1000000))  # Read first 1 MB for better detection\n",
    "    encoding = result['encoding']\n",
    "    print(f\"Detected encoding: {encoding}\")\n",
    "\n",
    "with open(file, 'r', encoding=encoding, errors='replace') as f:\n",
    "    games_with_complete_info = pd.read_csv(f)\n",
    "\n",
    "games_with_complete_info.head()"
   ]
  },
  {
   "cell_type": "code",
   "execution_count": null,
   "metadata": {
    "execution": {
     "iopub.execute_input": "2025-03-23T07:42:46.59767Z",
     "iopub.status.busy": "2025-03-23T07:42:46.59736Z",
     "iopub.status.idle": "2025-03-23T07:42:46.652839Z",
     "shell.execute_reply": "2025-03-23T07:42:46.65198Z",
     "shell.execute_reply.started": "2025-03-23T07:42:46.597641Z"
    },
    "id": "xsWdwQ0PCaPI"
   },
   "outputs": [],
   "source": [
    "clean_games_with_info = games_with_complete_info[\n",
    "    ~((games_with_complete_info.description.str.len() == 0) |\n",
    "      (games_with_complete_info.description.isna()) |\n",
    "      (games_with_complete_info.description == 'No description available') |\n",
    "      (games_with_complete_info.tags.str.strip('[]') == ''))\n",
    "].copy()\n",
    "\n",
    "print(\"Before filtering: \", games_with_complete_info.shape)\n",
    "print(\"After filtering: \", clean_games_with_info.shape)"
   ]
  },
  {
   "cell_type": "markdown",
   "metadata": {
    "id": "G0TSMu-KCaPI"
   },
   "source": [
    "We can observe that some steam games had no actual description / tags assigned to the game, hence we will filter them out."
   ]
  },
  {
   "cell_type": "markdown",
   "metadata": {
    "id": "M9OQY7nICaPI"
   },
   "source": [
    "> Checking modified games_with_complete_metadata dataframe"
   ]
  },
  {
   "cell_type": "code",
   "execution_count": null,
   "metadata": {
    "execution": {
     "iopub.execute_input": "2025-03-23T07:42:46.65398Z",
     "iopub.status.busy": "2025-03-23T07:42:46.653711Z",
     "iopub.status.idle": "2025-03-23T07:42:46.684563Z",
     "shell.execute_reply": "2025-03-23T07:42:46.683859Z",
     "shell.execute_reply.started": "2025-03-23T07:42:46.653949Z"
    },
    "id": "ib31-YENCaPI"
   },
   "outputs": [],
   "source": [
    "clean_games_with_info.info()"
   ]
  },
  {
   "cell_type": "code",
   "execution_count": null,
   "metadata": {
    "execution": {
     "iopub.execute_input": "2025-03-23T07:42:46.685495Z",
     "iopub.status.busy": "2025-03-23T07:42:46.685247Z",
     "iopub.status.idle": "2025-03-23T07:42:46.692638Z",
     "shell.execute_reply": "2025-03-23T07:42:46.691875Z",
     "shell.execute_reply.started": "2025-03-23T07:42:46.685475Z"
    },
    "id": "DmptDSGICaPI"
   },
   "outputs": [],
   "source": [
    "bool_column_change = ['win', 'steam_deck']\n",
    "\n",
    "clean_games_with_info[bool_column_change] = clean_games_with_info[bool_column_change].astype(bool)"
   ]
  },
  {
   "cell_type": "code",
   "execution_count": null,
   "metadata": {
    "execution": {
     "iopub.execute_input": "2025-03-23T07:42:46.693529Z",
     "iopub.status.busy": "2025-03-23T07:42:46.693292Z",
     "iopub.status.idle": "2025-03-23T07:42:46.709006Z",
     "shell.execute_reply": "2025-03-23T07:42:46.708413Z",
     "shell.execute_reply.started": "2025-03-23T07:42:46.693505Z"
    },
    "id": "_d5nenlACaPI"
   },
   "outputs": [],
   "source": [
    "print(type(clean_games_with_info['tags'].iloc[0]))"
   ]
  },
  {
   "cell_type": "code",
   "execution_count": null,
   "metadata": {
    "execution": {
     "iopub.execute_input": "2025-03-23T07:42:46.710129Z",
     "iopub.status.busy": "2025-03-23T07:42:46.709847Z",
     "iopub.status.idle": "2025-03-23T07:42:46.838375Z",
     "shell.execute_reply": "2025-03-23T07:42:46.837646Z",
     "shell.execute_reply.started": "2025-03-23T07:42:46.710101Z"
    },
    "id": "a6vM-S7-CaPI"
   },
   "outputs": [],
   "source": [
    "clean_games_with_info['tags'] = clean_games_with_info['tags'].apply(\n",
    "    lambda x: x.strip(\"[]\").replace(\"'\", \"\").split(\", \") if isinstance(x, str) else x\n",
    ")\n",
    "print(type(clean_games_with_info['tags'].iloc[0]))"
   ]
  },
  {
   "cell_type": "code",
   "execution_count": null,
   "metadata": {
    "execution": {
     "iopub.execute_input": "2025-03-23T07:42:46.839394Z",
     "iopub.status.busy": "2025-03-23T07:42:46.839134Z",
     "iopub.status.idle": "2025-03-23T07:42:46.853063Z",
     "shell.execute_reply": "2025-03-23T07:42:46.852415Z",
     "shell.execute_reply.started": "2025-03-23T07:42:46.839372Z"
    },
    "id": "ObsqNaSuCaPI"
   },
   "outputs": [],
   "source": [
    "clean_games_with_info.sample(3)"
   ]
  },
  {
   "cell_type": "markdown",
   "metadata": {
    "id": "85LMNTdFCaPI"
   },
   "source": [
    "**tfidf_matrix**\n",
    "\n",
    "- rows : game descriptions\n",
    "\n",
    "- columns : unique words from all over the descriptions\n",
    "\n",
    "- values : importance of a word in context"
   ]
  },
  {
   "cell_type": "code",
   "execution_count": null,
   "metadata": {
    "execution": {
     "iopub.execute_input": "2025-03-23T07:42:46.854186Z",
     "iopub.status.busy": "2025-03-23T07:42:46.853896Z",
     "iopub.status.idle": "2025-03-23T07:42:47.95583Z",
     "shell.execute_reply": "2025-03-23T07:42:47.955103Z",
     "shell.execute_reply.started": "2025-03-23T07:42:46.854155Z"
    },
    "id": "DUijjDvPCaPI"
   },
   "outputs": [],
   "source": [
    "tfidf = TfidfVectorizer(\n",
    "    stop_words = 'english'\n",
    ")\n",
    "\n",
    "tfidf_matrix = tfidf.fit_transform(clean_games_with_info.description)\n",
    "print(\"TFIDF Matrix Dimension : \", tfidf_matrix.shape)"
   ]
  },
  {
   "cell_type": "code",
   "execution_count": null,
   "metadata": {
    "execution": {
     "iopub.execute_input": "2025-03-23T07:42:47.959733Z",
     "iopub.status.busy": "2025-03-23T07:42:47.959521Z",
     "iopub.status.idle": "2025-03-23T07:42:47.996244Z",
     "shell.execute_reply": "2025-03-23T07:42:47.995417Z",
     "shell.execute_reply.started": "2025-03-23T07:42:47.959714Z"
    },
    "id": "dwqYNMnvCaPI"
   },
   "outputs": [],
   "source": [
    "feature_names = tfidf.get_feature_names_out()\n",
    "\n",
    "def vocab_check(sample_indices: list):\n",
    "    for idx in sample_indices:\n",
    "        game_name = clean_games_with_info.iloc[idx]['title'] \n",
    "        game_id = clean_games_with_info.iloc[idx]['app_id']\n",
    "\n",
    "        tfidf_scores = tfidf_matrix[idx].toarray().flatten()\n",
    "        vocab_df = pd.DataFrame({'vocabs': feature_names, 'importance': tfidf_scores})\n",
    "\n",
    "        top_5_vocabs = vocab_df.sort_values(\n",
    "            by = 'importance', ascending = False\n",
    "        ).head(5)\n",
    "\n",
    "        print(f\"\\nTop 5 vocabs in description of game '{game_name}', app_id = {game_id}\")\n",
    "        print(top_5_vocabs)"
   ]
  },
  {
   "cell_type": "code",
   "execution_count": null,
   "metadata": {
    "execution": {
     "iopub.execute_input": "2025-03-23T07:42:47.997763Z",
     "iopub.status.busy": "2025-03-23T07:42:47.997482Z",
     "iopub.status.idle": "2025-03-23T07:42:48.040414Z",
     "shell.execute_reply": "2025-03-23T07:42:48.039508Z",
     "shell.execute_reply.started": "2025-03-23T07:42:47.997731Z"
    },
    "id": "lbZAxQ9KCaPI"
   },
   "outputs": [],
   "source": [
    "sample_indices = [0, 10, 20]\n",
    "\n",
    "vocab_check(sample_indices)"
   ]
  },
  {
   "cell_type": "markdown",
   "metadata": {
    "id": "F6yl-Nm9CaPI"
   },
   "source": [
    "> ## **Multi-Label Binarizer**"
   ]
  },
  {
   "cell_type": "markdown",
   "metadata": {
    "id": "-1dmePT3CaPJ"
   },
   "source": [
    "> ### Tags Matrix"
   ]
  },
  {
   "cell_type": "markdown",
   "metadata": {
    "id": "C3YG43POCaPJ"
   },
   "source": [
    "**tags_matrix**\n",
    "\n",
    "- rows = Game\n",
    "\n",
    "- columns = tags\n",
    "\n",
    "- matrix values = 0, 1, depending if game have the respective tag"
   ]
  },
  {
   "cell_type": "code",
   "execution_count": null,
   "metadata": {
    "execution": {
     "iopub.execute_input": "2025-03-23T07:42:48.04158Z",
     "iopub.status.busy": "2025-03-23T07:42:48.041274Z",
     "iopub.status.idle": "2025-03-23T07:42:48.342516Z",
     "shell.execute_reply": "2025-03-23T07:42:48.341751Z",
     "shell.execute_reply.started": "2025-03-23T07:42:48.041558Z"
    },
    "id": "dxpuUtEICaPJ"
   },
   "outputs": [],
   "source": [
    "mlb = MultiLabelBinarizer()\n",
    "tags_matrix = mlb.fit_transform(clean_games_with_info['tags'])\n",
    "\n",
    "print('Tag Matrix dimension : ', tags_matrix.shape)"
   ]
  },
  {
   "cell_type": "code",
   "execution_count": null,
   "metadata": {
    "execution": {
     "iopub.execute_input": "2025-03-23T07:42:48.343664Z",
     "iopub.status.busy": "2025-03-23T07:42:48.343318Z",
     "iopub.status.idle": "2025-03-23T07:42:48.362562Z",
     "shell.execute_reply": "2025-03-23T07:42:48.361864Z",
     "shell.execute_reply.started": "2025-03-23T07:42:48.343632Z"
    },
    "id": "3BdMOiIoCaPJ"
   },
   "outputs": [],
   "source": [
    "n_samples = 3\n",
    "sample_games = clean_games_with_info.sample(n_samples)\n",
    "\n",
    "for i in range(n_samples):\n",
    "    app_id = sample_games.iloc[i]['app_id']\n",
    "    print(\"\\n\\nGenres For Game = \", sample_games.iloc[i]['title'])\n",
    "    print(\"-\" * 50)\n",
    "\n",
    "    game_index = clean_games_with_info[\n",
    "        clean_games_with_info['app_id'] == app_id\n",
    "    ].index[0]\n",
    "    index = clean_games_with_info.index.get_loc(game_index)\n",
    "\n",
    "    unique_tags = mlb.classes_\n",
    "    tags_df = pd.DataFrame(tags_matrix, columns = unique_tags)\n",
    "\n",
    "    game_tags = tags_df.iloc[index]\n",
    "    filtered_tags = game_tags[game_tags == 1]\n",
    "    filtered_tag_df = pd.DataFrame(filtered_tags).T\n",
    "    print(filtered_tag_df)"
   ]
  },
  {
   "cell_type": "markdown",
   "metadata": {
    "id": "dPgERbyTCaPJ"
   },
   "source": [
    "> ## **Matrix Stacking**"
   ]
  },
  {
   "cell_type": "markdown",
   "metadata": {
    "id": "ChN49mENCaPJ"
   },
   "source": [
    "Now we have both description and tags matrices.\n",
    "\n",
    "Combining them allows us to use both categorical and textual information for the recommendation system. We will stack both of the matrices to make a cosine similarity matrix"
   ]
  },
  {
   "cell_type": "code",
   "execution_count": null,
   "metadata": {
    "execution": {
     "iopub.execute_input": "2025-03-23T07:42:48.363844Z",
     "iopub.status.busy": "2025-03-23T07:42:48.363549Z",
     "iopub.status.idle": "2025-03-23T07:43:36.511974Z",
     "shell.execute_reply": "2025-03-23T07:43:36.5112Z",
     "shell.execute_reply.started": "2025-03-23T07:42:48.363815Z"
    },
    "id": "dul3OW7UCaPJ"
   },
   "outputs": [],
   "source": [
    "combined_matrix = hstack(\n",
    "    (tfidf_matrix, tags_matrix)\n",
    ").astype('float32') \n",
    "print(\"Dimension of combined_matrix : \", combined_matrix.shape)\n",
    "print(\"Combined Matrix data type : \", combined_matrix.dtype)\n",
    "print(\"Number of non-zero values : \", combined_matrix.nnz)\n",
    "\n",
    "total_elements = combined_matrix.shape[0] * combined_matrix.shape[1] \n",
    "nnz_percentage = (combined_matrix.nnz / total_elements) * 100\n",
    "\n",
    "print(\"Percentage of non-zero values in combined_matrix (%) : \", nnz_percentage)\n",
    "\n",
    "combined_cosine_sim_matrix = cosine_similarity(combined_matrix, combined_matrix)\n",
    "print(\"Dimension of combined cosine-similarity matrix : \", combined_cosine_sim_matrix.shape)"
   ]
  },
  {
   "cell_type": "markdown",
   "metadata": {
    "id": "_xzHTNs8CaPJ"
   },
   "source": [
    "We can see low percentage of non-zero elements are shown since tags_matrix and tfidf_matrix are sparse."
   ]
  },
  {
   "cell_type": "markdown",
   "metadata": {
    "id": "MwnozXAtCaPJ"
   },
   "source": [
    "> # **Making Game Recommendations**"
   ]
  },
  {
   "cell_type": "code",
   "execution_count": null,
   "metadata": {
    "execution": {
     "iopub.execute_input": "2025-03-23T07:43:36.513016Z",
     "iopub.status.busy": "2025-03-23T07:43:36.512721Z",
     "iopub.status.idle": "2025-03-23T07:43:36.5203Z",
     "shell.execute_reply": "2025-03-23T07:43:36.519403Z",
     "shell.execute_reply.started": "2025-03-23T07:43:36.512992Z"
    },
    "id": "l8gxNDHCCaPJ"
   },
   "outputs": [],
   "source": [
    "def get_recommendations(game_name: str,\n",
    "                        num_results: int,\n",
    "                        cosine_sim: np.ndarray,\n",
    "                        dataframe):\n",
    "    processed_game_name = game_name.lower()\n",
    "    game_to_generate_recommendations = dataframe[\n",
    "        dataframe['title'].str.lower() == processed_game_name\n",
    "    ]\n",
    "\n",
    "    if game_to_generate_recommendations.empty:\n",
    "        print(f\"Game '{game_name}' not found within the dataset.\")\n",
    "        return None\n",
    "\n",
    "    print(\"=\" * 80)\n",
    "    print(\"\\nSince you played games like\", game_to_generate_recommendations['title'].values, ',\\nYou might also like these games / DLCs :\\n')\n",
    "    print(\"=\" * 80)\n",
    "\n",
    "    game_index = game_to_generate_recommendations.index[0]\n",
    "    index = clean_games_with_info.index.get_loc(game_index)\n",
    "\n",
    "    similarity_scores = list(enumerate(cosine_sim[index]))\n",
    "\n",
    "    sorted_similar_scores = sorted(\n",
    "        similarity_scores, key = lambda x: x[1], reverse = True\n",
    "    )[1 : num_results + 1]\n",
    "\n",
    "    recommended_games_app_id = [i[0] for i in sorted_similar_scores]\n",
    "\n",
    "    for i in recommended_games_app_id:\n",
    "        rg_title = dataframe.iloc[i]['title']\n",
    "        rg_description = dataframe.iloc[i]['description']\n",
    "\n",
    "        rg_rating = dataframe.iloc[i]['rating']\n",
    "\n",
    "        rg_price = dataframe.iloc[i]['price_final']\n",
    "\n",
    "        rg_genres = dataframe.iloc[i]['tags']\n",
    "        rg_genres = ', '.join(rg_genres)\n",
    "\n",
    "        print(f\"\\n\\nGame {i} : \", rg_title)\n",
    "        print(\"-\" * 50)\n",
    "        print(\"[ Description ]\\n\", rg_description)\n",
    "        print(\"\\n[ Genres ]\\n\", rg_genres if rg_genres else 'No Genre Assigned')\n",
    "        print(\"\\n[ Rating ] \", rg_rating)\n",
    "        print(\"[ Price ($) ] \", rg_price)\n",
    "\n"
   ]
  },
  {
   "cell_type": "code",
   "execution_count": null,
   "metadata": {
    "execution": {
     "iopub.execute_input": "2025-03-23T07:43:36.521421Z",
     "iopub.status.busy": "2025-03-23T07:43:36.521136Z",
     "iopub.status.idle": "2025-03-23T07:43:36.586774Z",
     "shell.execute_reply": "2025-03-23T07:43:36.586123Z",
     "shell.execute_reply.started": "2025-03-23T07:43:36.521388Z"
    },
    "id": "LTHq3QipCaPJ"
   },
   "outputs": [],
   "source": [
    "ORIGINAL_GAME = \"library of ruina\"\n",
    "\n",
    "get_recommendations(ORIGINAL_GAME , 5, combined_cosine_sim_matrix, clean_games_with_info)"
   ]
  },
  {
   "cell_type": "markdown",
   "metadata": {
    "id": "93u2HwRvCaPJ"
   },
   "source": [
    "> # **Saving Matrix and processed dataframe**"
   ]
  },
  {
   "cell_type": "code",
   "execution_count": null,
   "metadata": {
    "execution": {
     "iopub.execute_input": "2025-03-23T07:45:55.839587Z",
     "iopub.status.busy": "2025-03-23T07:45:55.839242Z",
     "iopub.status.idle": "2025-03-23T07:46:16.019271Z",
     "shell.execute_reply": "2025-03-23T07:46:16.018045Z",
     "shell.execute_reply.started": "2025-03-23T07:45:55.83956Z"
    },
    "id": "UKbPnVp0CaPJ"
   },
   "outputs": [],
   "source": [
    "import pickle\n",
    "\n",
    "np.save('/kaggle/working/cosine_sim.npy', combined_cosine_sim_matrix)\n",
    "\n",
    "with open('/kaggle/working/dataframe.pkl', 'wb') as f:\n",
    "    pickle.dump(clean_games_with_info, f)"
   ]
  }
 ],
 "metadata": {
  "colab": {
   "name": "Game Recommendation System",
   "provenance": []
  },
  "kaggle": {
   "accelerator": "gpu",
   "dataSources": [
    {
     "datasetId": 2871694,
     "sourceId": 9172942,
     "sourceType": "datasetVersion"
    },
    {
     "datasetId": 6921321,
     "sourceId": 11107681,
     "sourceType": "datasetVersion"
    }
   ],
   "dockerImageVersionId": 30919,
   "isGpuEnabled": true,
   "isInternetEnabled": true,
   "language": "python",
   "sourceType": "notebook"
  },
  "kernelspec": {
   "display_name": "Python 3 (ipykernel)",
   "language": "python",
   "name": "python3"
  },
  "language_info": {
   "codemirror_mode": {
    "name": "ipython",
    "version": 3
   },
   "file_extension": ".py",
   "mimetype": "text/x-python",
   "name": "python",
   "nbconvert_exporter": "python",
   "pygments_lexer": "ipython3",
   "version": "3.12.7"
  }
 },
 "nbformat": 4,
 "nbformat_minor": 4
}
